{
  "cells": [
    {
      "cell_type": "markdown",
      "metadata": {
        "id": "view-in-github",
        "colab_type": "text"
      },
      "source": [
        "<a href=\"https://colab.research.google.com/github/mariapaulasag/Learning-Pyhton-Basics/blob/main/pythonDatetime_and_Date_Type.ipynb\" target=\"_parent\"><img src=\"https://colab.research.google.com/assets/colab-badge.svg\" alt=\"Open In Colab\"/></a>"
      ]
    },
    {
      "cell_type": "markdown",
      "metadata": {
        "id": "AYXCcIY1_kA2"
      },
      "source": [
        "# Functions vs Lambda"
      ]
    },
    {
      "cell_type": "markdown",
      "metadata": {
        "id": "MVIaJBlZ_psJ"
      },
      "source": [
        "1. Create a user defined function \n",
        "* add 2 arguments\n",
        "* square an argument\n",
        "2. write a function using lambda\n",
        "* add 2 arguments\n",
        "* square an argument\n",
        "3. upload and read the stocks file\n",
        "4. import pandas and python\n",
        "5. create a new column in stock utilizing the user defined function, lambda and numpy for the below logic:\n",
        "\n",
        "* if stock price is below 100 == low\n",
        "* if stock price is below 200 == med\n",
        "* if stock price is above 200 == high\n",
        "\n"
      ]
    },
    {
      "cell_type": "markdown",
      "source": [
        "statements \n",
        "for functions we have to define them and in lambda we dont have to. "
      ],
      "metadata": {
        "id": "0B5NZcroXJuX"
      }
    },
    {
      "cell_type": "markdown",
      "source": [
        "in summary in today's class we cover function vs lamba\n",
        "* 3 different ways to create a function\n",
        "1. using np or pandas\n",
        "2. using define fucntion def\n",
        "3. using lambda function.\n",
        "\n",
        "* date types.\n",
        "exact month of dates \n",
        "convert a string into date format\n"
      ],
      "metadata": {
        "id": "YR2irzFqlQs4"
      }
    },
    {
      "cell_type": "markdown",
      "source": [
        "# Import pandas an numpy"
      ],
      "metadata": {
        "id": "z6_aUbfZERvu"
      }
    },
    {
      "cell_type": "code",
      "source": [
        "import pandas as pd\n",
        "import numpy as np\n"
      ],
      "metadata": {
        "id": "KrUWOVKHETMm"
      },
      "execution_count": null,
      "outputs": []
    },
    {
      "cell_type": "markdown",
      "source": [
        "# 1. Create a user defined function \n",
        "\n",
        "* add 2 arguments. we create a function. add (x,y)\n",
        "* (we put the arguments below in add and the values ​​in parentheses.)\n",
        "* square an argument \n",
        "\n",
        "* manual way"
      ],
      "metadata": {
        "id": "JM_IGpJbEm8l"
      }
    },
    {
      "cell_type": "code",
      "source": [
        "def add(x,y):\n",
        "  return x + y;"
      ],
      "metadata": {
        "id": "9UttgREoEq65"
      },
      "execution_count": null,
      "outputs": []
    },
    {
      "cell_type": "code",
      "source": [
        "add (3.4,5)"
      ],
      "metadata": {
        "colab": {
          "base_uri": "https://localhost:8080/"
        },
        "id": "2ZXvueOeFHtD",
        "outputId": "614f3b95-b2ed-4c54-924e-9a9c730c8e1e"
      },
      "execution_count": null,
      "outputs": [
        {
          "output_type": "execute_result",
          "data": {
            "text/plain": [
              "8.4"
            ]
          },
          "metadata": {},
          "execution_count": 3
        }
      ]
    },
    {
      "cell_type": "code",
      "source": [
        "add('John','Smith')"
      ],
      "metadata": {
        "colab": {
          "base_uri": "https://localhost:8080/",
          "height": 36
        },
        "id": "h7latRREFTuT",
        "outputId": "a87e2068-8067-446a-eaee-68525bccb554"
      },
      "execution_count": null,
      "outputs": [
        {
          "output_type": "execute_result",
          "data": {
            "application/vnd.google.colaboratory.intrinsic+json": {
              "type": "string"
            },
            "text/plain": [
              "'JohnSmith'"
            ]
          },
          "metadata": {},
          "execution_count": 4
        }
      ]
    },
    {
      "cell_type": "markdown",
      "source": [
        "# square an argument"
      ],
      "metadata": {
        "id": "HUf6Au-aFkBA"
      }
    },
    {
      "cell_type": "code",
      "source": [
        "def sqr (x):\n",
        "  return x**2;"
      ],
      "metadata": {
        "id": "SqeUNGJiFoSJ"
      },
      "execution_count": null,
      "outputs": []
    },
    {
      "cell_type": "code",
      "source": [
        "sqr(4)"
      ],
      "metadata": {
        "colab": {
          "base_uri": "https://localhost:8080/"
        },
        "id": "ZoLnuiGrFxWj",
        "outputId": "cb8b19ff-761c-46d4-ebab-f6603a40c305"
      },
      "execution_count": null,
      "outputs": [
        {
          "output_type": "execute_result",
          "data": {
            "text/plain": [
              "16"
            ]
          },
          "metadata": {},
          "execution_count": 6
        }
      ]
    },
    {
      "cell_type": "markdown",
      "source": [
        "However, let's say there, there might be situations where you cannot define your own functions it's difficult it's you don't want it no you don't want to define your function, then in that situation, what we are going to do we're going to use Lambda."
      ],
      "metadata": {
        "id": "8nr588QeYsdi"
      }
    },
    {
      "cell_type": "markdown",
      "source": [
        "#2. write a function using lambda\n",
        "* add 2 arguments. /// Solo se crea un argumento con el return. \n",
        "* square an argument"
      ],
      "metadata": {
        "id": "JHcHG8YMF6bk"
      }
    },
    {
      "cell_type": "code",
      "source": [
        "add = lambda x,y : x+y "
      ],
      "metadata": {
        "id": "vGCpvyqNGFrR"
      },
      "execution_count": null,
      "outputs": []
    },
    {
      "cell_type": "code",
      "source": [
        "add(2,4)"
      ],
      "metadata": {
        "colab": {
          "base_uri": "https://localhost:8080/"
        },
        "id": "C0IJHJEAGLqk",
        "outputId": "ad25d000-bb4d-457e-83fd-f12cdfae7b44"
      },
      "execution_count": null,
      "outputs": [
        {
          "output_type": "execute_result",
          "data": {
            "text/plain": [
              "6"
            ]
          },
          "metadata": {},
          "execution_count": 8
        }
      ]
    },
    {
      "cell_type": "markdown",
      "source": [
        "* square an argument"
      ],
      "metadata": {
        "id": "UpGxuaN6GasO"
      }
    },
    {
      "cell_type": "code",
      "source": [
        "sqrl = lambda x : x**2"
      ],
      "metadata": {
        "id": "ycI7PBdqGaHg"
      },
      "execution_count": null,
      "outputs": []
    },
    {
      "cell_type": "code",
      "source": [
        "sqrl(5)"
      ],
      "metadata": {
        "colab": {
          "base_uri": "https://localhost:8080/"
        },
        "id": "6qoGqfRmGiYb",
        "outputId": "e0c5cd78-6948-499a-90a2-69e99ada717e"
      },
      "execution_count": null,
      "outputs": [
        {
          "output_type": "execute_result",
          "data": {
            "text/plain": [
              "25"
            ]
          },
          "metadata": {},
          "execution_count": 10
        }
      ]
    },
    {
      "cell_type": "markdown",
      "source": [
        "# 3. Upload and read the stocks file"
      ],
      "metadata": {
        "id": "XBYGgmOjGx0n"
      }
    },
    {
      "cell_type": "markdown",
      "source": [
        "* reading file stocks "
      ],
      "metadata": {
        "id": "pyZxHXNAZOJx"
      }
    },
    {
      "cell_type": "code",
      "source": [
        "stocks = pd.read_csv('stock.csv')"
      ],
      "metadata": {
        "id": "GvMRoORmGziF"
      },
      "execution_count": null,
      "outputs": []
    },
    {
      "cell_type": "code",
      "source": [
        "stocks"
      ],
      "metadata": {
        "colab": {
          "base_uri": "https://localhost:8080/",
          "height": 426
        },
        "id": "j13ohFqfHEvy",
        "outputId": "c476ab6a-8e47-4b5d-f7a6-c897e9f6b8ec"
      },
      "execution_count": null,
      "outputs": [
        {
          "output_type": "execute_result",
          "data": {
            "text/html": [
              "<div>\n",
              "<style scoped>\n",
              "    .dataframe tbody tr th:only-of-type {\n",
              "        vertical-align: middle;\n",
              "    }\n",
              "\n",
              "    .dataframe tbody tr th {\n",
              "        vertical-align: top;\n",
              "    }\n",
              "\n",
              "    .dataframe thead th {\n",
              "        text-align: right;\n",
              "    }\n",
              "</style>\n",
              "<table border=\"1\" class=\"dataframe\">\n",
              "  <thead>\n",
              "    <tr style=\"text-align: right;\">\n",
              "      <th></th>\n",
              "      <th>Stock Price</th>\n",
              "    </tr>\n",
              "  </thead>\n",
              "  <tbody>\n",
              "    <tr>\n",
              "      <th>0</th>\n",
              "      <td>50.12</td>\n",
              "    </tr>\n",
              "    <tr>\n",
              "      <th>1</th>\n",
              "      <td>54.10</td>\n",
              "    </tr>\n",
              "    <tr>\n",
              "      <th>2</th>\n",
              "      <td>54.65</td>\n",
              "    </tr>\n",
              "    <tr>\n",
              "      <th>3</th>\n",
              "      <td>102.88</td>\n",
              "    </tr>\n",
              "    <tr>\n",
              "      <th>4</th>\n",
              "      <td>105.32</td>\n",
              "    </tr>\n",
              "    <tr>\n",
              "      <th>5</th>\n",
              "      <td>102.08</td>\n",
              "    </tr>\n",
              "    <tr>\n",
              "      <th>6</th>\n",
              "      <td>214.86</td>\n",
              "    </tr>\n",
              "    <tr>\n",
              "      <th>7</th>\n",
              "      <td>212.09</td>\n",
              "    </tr>\n",
              "    <tr>\n",
              "      <th>8</th>\n",
              "      <td>214.66</td>\n",
              "    </tr>\n",
              "    <tr>\n",
              "      <th>9</th>\n",
              "      <td>212.95</td>\n",
              "    </tr>\n",
              "    <tr>\n",
              "      <th>10</th>\n",
              "      <td>215.80</td>\n",
              "    </tr>\n",
              "    <tr>\n",
              "      <th>11</th>\n",
              "      <td>215.25</td>\n",
              "    </tr>\n",
              "  </tbody>\n",
              "</table>\n",
              "</div>"
            ],
            "text/plain": [
              "    Stock Price\n",
              "0         50.12\n",
              "1         54.10\n",
              "2         54.65\n",
              "3        102.88\n",
              "4        105.32\n",
              "5        102.08\n",
              "6        214.86\n",
              "7        212.09\n",
              "8        214.66\n",
              "9        212.95\n",
              "10       215.80\n",
              "11       215.25"
            ]
          },
          "metadata": {},
          "execution_count": 14
        }
      ]
    },
    {
      "cell_type": "markdown",
      "source": [
        "#4. import pandas and python"
      ],
      "metadata": {
        "id": "w1rhSEHEZg3P"
      }
    },
    {
      "cell_type": "code",
      "source": [
        "import pandas as pd\n",
        "import numpy as np"
      ],
      "metadata": {
        "id": "zIetcpJqaWfw"
      },
      "execution_count": null,
      "outputs": []
    },
    {
      "cell_type": "markdown",
      "source": [
        "# 5. create a new column in stock utilizing the user defined function, lambda and numpy for the below logic:"
      ],
      "metadata": {
        "id": "oaeUVl_8HPn7"
      }
    },
    {
      "cell_type": "markdown",
      "source": [
        "1 way different  to define the function\n",
        "* user defined function, lambda and numpy\n",
        "1. the first is user definable."
      ],
      "metadata": {
        "id": "umDRo6Pwauaq"
      }
    },
    {
      "cell_type": "markdown",
      "source": [
        "Using Numpy"
      ],
      "metadata": {
        "id": "L4_FI8RRHl_C"
      }
    },
    {
      "cell_type": "markdown",
      "source": [
        "we use where cuando we put it in a situation.\n",
        "\n",
        "* we put library in this case numpy (np) then . where (name of df) name of column. we describe the situation.\n",
        "\n",
        "* * if stock price is below 100 == low\n",
        "* if stock price is below 200 == med\n",
        "* if stock price is above 200 == high"
      ],
      "metadata": {
        "id": "KpMIz3_UHoJM"
      }
    },
    {
      "cell_type": "markdown",
      "source": [
        "definitions in arrays"
      ],
      "metadata": {
        "id": "X29JuaKEcGey"
      }
    },
    {
      "cell_type": "code",
      "source": [
        "np.where(stocks['Stock Price']<100, 'Low',\n",
        "         np.where(stocks['Stock Price']<200, 'Med', 'High'))"
      ],
      "metadata": {
        "colab": {
          "base_uri": "https://localhost:8080/"
        },
        "id": "HTxztiLPHPKX",
        "outputId": "ac05fc2d-84ee-40db-8229-431f9e14a59c"
      },
      "execution_count": null,
      "outputs": [
        {
          "output_type": "execute_result",
          "data": {
            "text/plain": [
              "array(['Low', 'Low', 'Low', 'Med', 'Med', 'Med', 'High', 'High', 'High',\n",
              "       'High', 'High', 'High'], dtype='<U4')"
            ]
          },
          "metadata": {},
          "execution_count": 16
        }
      ]
    },
    {
      "cell_type": "markdown",
      "source": [
        "convertion in columns "
      ],
      "metadata": {
        "id": "GPC9rN6jcJl4"
      }
    },
    {
      "cell_type": "code",
      "source": [
        "stocks['where'] = np.where(stocks['Stock Price']<100, 'Low',\n",
        "         np.where(stocks['Stock Price']<200, 'Med', 'High'))"
      ],
      "metadata": {
        "id": "HwLRhkRhITV_"
      },
      "execution_count": null,
      "outputs": []
    },
    {
      "cell_type": "markdown",
      "source": [
        "creation of the column,if it is less than 100 place 100, if it is less than 200 place medium and for everything else high"
      ],
      "metadata": {
        "id": "6kPIeESwIg32"
      }
    },
    {
      "cell_type": "code",
      "source": [
        "stocks['where']"
      ],
      "metadata": {
        "colab": {
          "base_uri": "https://localhost:8080/"
        },
        "id": "PAr87Ub3Icih",
        "outputId": "825294d8-66fe-4ff5-8e23-61ad7c73c6b6"
      },
      "execution_count": null,
      "outputs": [
        {
          "output_type": "execute_result",
          "data": {
            "text/plain": [
              "0      Low\n",
              "1      Low\n",
              "2      Low\n",
              "3      Med\n",
              "4      Med\n",
              "5      Med\n",
              "6     High\n",
              "7     High\n",
              "8     High\n",
              "9     High\n",
              "10    High\n",
              "11    High\n",
              "Name: where, dtype: object"
            ]
          },
          "metadata": {},
          "execution_count": 18
        }
      ]
    },
    {
      "cell_type": "code",
      "source": [
        "stocks"
      ],
      "metadata": {
        "colab": {
          "base_uri": "https://localhost:8080/",
          "height": 426
        },
        "id": "axWidTKMIrUw",
        "outputId": "f493cd05-7370-4edf-a3dc-1f5891bb0432"
      },
      "execution_count": null,
      "outputs": [
        {
          "output_type": "execute_result",
          "data": {
            "text/html": [
              "<div>\n",
              "<style scoped>\n",
              "    .dataframe tbody tr th:only-of-type {\n",
              "        vertical-align: middle;\n",
              "    }\n",
              "\n",
              "    .dataframe tbody tr th {\n",
              "        vertical-align: top;\n",
              "    }\n",
              "\n",
              "    .dataframe thead th {\n",
              "        text-align: right;\n",
              "    }\n",
              "</style>\n",
              "<table border=\"1\" class=\"dataframe\">\n",
              "  <thead>\n",
              "    <tr style=\"text-align: right;\">\n",
              "      <th></th>\n",
              "      <th>Stock Price</th>\n",
              "      <th>where</th>\n",
              "    </tr>\n",
              "  </thead>\n",
              "  <tbody>\n",
              "    <tr>\n",
              "      <th>0</th>\n",
              "      <td>50.12</td>\n",
              "      <td>Low</td>\n",
              "    </tr>\n",
              "    <tr>\n",
              "      <th>1</th>\n",
              "      <td>54.10</td>\n",
              "      <td>Low</td>\n",
              "    </tr>\n",
              "    <tr>\n",
              "      <th>2</th>\n",
              "      <td>54.65</td>\n",
              "      <td>Low</td>\n",
              "    </tr>\n",
              "    <tr>\n",
              "      <th>3</th>\n",
              "      <td>102.88</td>\n",
              "      <td>Med</td>\n",
              "    </tr>\n",
              "    <tr>\n",
              "      <th>4</th>\n",
              "      <td>105.32</td>\n",
              "      <td>Med</td>\n",
              "    </tr>\n",
              "    <tr>\n",
              "      <th>5</th>\n",
              "      <td>102.08</td>\n",
              "      <td>Med</td>\n",
              "    </tr>\n",
              "    <tr>\n",
              "      <th>6</th>\n",
              "      <td>214.86</td>\n",
              "      <td>High</td>\n",
              "    </tr>\n",
              "    <tr>\n",
              "      <th>7</th>\n",
              "      <td>212.09</td>\n",
              "      <td>High</td>\n",
              "    </tr>\n",
              "    <tr>\n",
              "      <th>8</th>\n",
              "      <td>214.66</td>\n",
              "      <td>High</td>\n",
              "    </tr>\n",
              "    <tr>\n",
              "      <th>9</th>\n",
              "      <td>212.95</td>\n",
              "      <td>High</td>\n",
              "    </tr>\n",
              "    <tr>\n",
              "      <th>10</th>\n",
              "      <td>215.80</td>\n",
              "      <td>High</td>\n",
              "    </tr>\n",
              "    <tr>\n",
              "      <th>11</th>\n",
              "      <td>215.25</td>\n",
              "      <td>High</td>\n",
              "    </tr>\n",
              "  </tbody>\n",
              "</table>\n",
              "</div>"
            ],
            "text/plain": [
              "    Stock Price where\n",
              "0         50.12   Low\n",
              "1         54.10   Low\n",
              "2         54.65   Low\n",
              "3        102.88   Med\n",
              "4        105.32   Med\n",
              "5        102.08   Med\n",
              "6        214.86  High\n",
              "7        212.09  High\n",
              "8        214.66  High\n",
              "9        212.95  High\n",
              "10       215.80  High\n",
              "11       215.25  High"
            ]
          },
          "metadata": {},
          "execution_count": 19
        }
      ]
    },
    {
      "cell_type": "markdown",
      "source": [
        "2. way using define \n",
        "* user defined\n",
        "* We start with define.\n",
        "* define fun as the name of the variable"
      ],
      "metadata": {
        "id": "nyVzkgXYItJp"
      }
    },
    {
      "cell_type": "markdown",
      "source": [
        "\n",
        "if p is less than 100, return Low if it is....."
      ],
      "metadata": {
        "id": "c9RPHTwsJMUe"
      }
    },
    {
      "cell_type": "markdown",
      "source": [
        "elif means otherwise means another statement."
      ],
      "metadata": {
        "id": "2i9y3a35c8jG"
      }
    },
    {
      "cell_type": "code",
      "source": [
        "def fun(p):\n",
        "  if p<100:\n",
        "    return 'LOW'\n",
        "  elif p <200:\n",
        "      return 'MED'\n",
        "  else:\n",
        "        return 'HIGH'"
      ],
      "metadata": {
        "id": "wtdtGLHuIvdw"
      },
      "execution_count": null,
      "outputs": []
    },
    {
      "cell_type": "markdown",
      "source": [
        "go into de data frame and loc them and applay it on every row of the function \n",
        "\n",
        "* means otherwise means another statement.\n",
        "\n",
        "* en every row means these [:,"
      ],
      "metadata": {
        "id": "gsK88R73JwAu"
      }
    },
    {
      "cell_type": "code",
      "source": [
        "stocks['fun'] = stocks.loc[:,'Stock Price'].apply(fun)"
      ],
      "metadata": {
        "id": "UBTtGZaGJfsa"
      },
      "execution_count": null,
      "outputs": []
    },
    {
      "cell_type": "code",
      "source": [
        "stocks"
      ],
      "metadata": {
        "colab": {
          "base_uri": "https://localhost:8080/",
          "height": 426
        },
        "id": "PkcT_kYads0a",
        "outputId": "2dee294e-8b11-4c2a-f56a-fcb5b5d93ac4"
      },
      "execution_count": null,
      "outputs": [
        {
          "output_type": "execute_result",
          "data": {
            "text/html": [
              "<div>\n",
              "<style scoped>\n",
              "    .dataframe tbody tr th:only-of-type {\n",
              "        vertical-align: middle;\n",
              "    }\n",
              "\n",
              "    .dataframe tbody tr th {\n",
              "        vertical-align: top;\n",
              "    }\n",
              "\n",
              "    .dataframe thead th {\n",
              "        text-align: right;\n",
              "    }\n",
              "</style>\n",
              "<table border=\"1\" class=\"dataframe\">\n",
              "  <thead>\n",
              "    <tr style=\"text-align: right;\">\n",
              "      <th></th>\n",
              "      <th>Stock Price</th>\n",
              "      <th>where</th>\n",
              "      <th>fun</th>\n",
              "    </tr>\n",
              "  </thead>\n",
              "  <tbody>\n",
              "    <tr>\n",
              "      <th>0</th>\n",
              "      <td>50.12</td>\n",
              "      <td>Low</td>\n",
              "      <td>LOW</td>\n",
              "    </tr>\n",
              "    <tr>\n",
              "      <th>1</th>\n",
              "      <td>54.10</td>\n",
              "      <td>Low</td>\n",
              "      <td>LOW</td>\n",
              "    </tr>\n",
              "    <tr>\n",
              "      <th>2</th>\n",
              "      <td>54.65</td>\n",
              "      <td>Low</td>\n",
              "      <td>LOW</td>\n",
              "    </tr>\n",
              "    <tr>\n",
              "      <th>3</th>\n",
              "      <td>102.88</td>\n",
              "      <td>Med</td>\n",
              "      <td>MED</td>\n",
              "    </tr>\n",
              "    <tr>\n",
              "      <th>4</th>\n",
              "      <td>105.32</td>\n",
              "      <td>Med</td>\n",
              "      <td>MED</td>\n",
              "    </tr>\n",
              "    <tr>\n",
              "      <th>5</th>\n",
              "      <td>102.08</td>\n",
              "      <td>Med</td>\n",
              "      <td>MED</td>\n",
              "    </tr>\n",
              "    <tr>\n",
              "      <th>6</th>\n",
              "      <td>214.86</td>\n",
              "      <td>High</td>\n",
              "      <td>HIGH</td>\n",
              "    </tr>\n",
              "    <tr>\n",
              "      <th>7</th>\n",
              "      <td>212.09</td>\n",
              "      <td>High</td>\n",
              "      <td>HIGH</td>\n",
              "    </tr>\n",
              "    <tr>\n",
              "      <th>8</th>\n",
              "      <td>214.66</td>\n",
              "      <td>High</td>\n",
              "      <td>HIGH</td>\n",
              "    </tr>\n",
              "    <tr>\n",
              "      <th>9</th>\n",
              "      <td>212.95</td>\n",
              "      <td>High</td>\n",
              "      <td>HIGH</td>\n",
              "    </tr>\n",
              "    <tr>\n",
              "      <th>10</th>\n",
              "      <td>215.80</td>\n",
              "      <td>High</td>\n",
              "      <td>HIGH</td>\n",
              "    </tr>\n",
              "    <tr>\n",
              "      <th>11</th>\n",
              "      <td>215.25</td>\n",
              "      <td>High</td>\n",
              "      <td>HIGH</td>\n",
              "    </tr>\n",
              "  </tbody>\n",
              "</table>\n",
              "</div>"
            ],
            "text/plain": [
              "    Stock Price where   fun\n",
              "0         50.12   Low   LOW\n",
              "1         54.10   Low   LOW\n",
              "2         54.65   Low   LOW\n",
              "3        102.88   Med   MED\n",
              "4        105.32   Med   MED\n",
              "5        102.08   Med   MED\n",
              "6        214.86  High  HIGH\n",
              "7        212.09  High  HIGH\n",
              "8        214.66  High  HIGH\n",
              "9        212.95  High  HIGH\n",
              "10       215.80  High  HIGH\n",
              "11       215.25  High  HIGH"
            ]
          },
          "metadata": {},
          "execution_count": 24
        }
      ]
    },
    {
      "cell_type": "markdown",
      "source": [
        "3. way USING lambda"
      ],
      "metadata": {
        "id": "du-fNFSpKTvl"
      }
    },
    {
      "cell_type": "code",
      "source": [
        "stocks['lambda'] = stocks['Stock Price'].apply(lambda x : 'low' if x <100 else ('med' if x <200 else 'high'))"
      ],
      "metadata": {
        "id": "PJWUNeW7KWzI"
      },
      "execution_count": null,
      "outputs": []
    },
    {
      "cell_type": "code",
      "source": [
        "stocks"
      ],
      "metadata": {
        "colab": {
          "base_uri": "https://localhost:8080/",
          "height": 426
        },
        "id": "SdqJgK6wLLqL",
        "outputId": "28a961ee-68f3-46c4-dff3-c43dc3f93b9b"
      },
      "execution_count": null,
      "outputs": [
        {
          "output_type": "execute_result",
          "data": {
            "text/html": [
              "<div>\n",
              "<style scoped>\n",
              "    .dataframe tbody tr th:only-of-type {\n",
              "        vertical-align: middle;\n",
              "    }\n",
              "\n",
              "    .dataframe tbody tr th {\n",
              "        vertical-align: top;\n",
              "    }\n",
              "\n",
              "    .dataframe thead th {\n",
              "        text-align: right;\n",
              "    }\n",
              "</style>\n",
              "<table border=\"1\" class=\"dataframe\">\n",
              "  <thead>\n",
              "    <tr style=\"text-align: right;\">\n",
              "      <th></th>\n",
              "      <th>Stock Price</th>\n",
              "      <th>where</th>\n",
              "      <th>fun</th>\n",
              "      <th>lambda</th>\n",
              "    </tr>\n",
              "  </thead>\n",
              "  <tbody>\n",
              "    <tr>\n",
              "      <th>0</th>\n",
              "      <td>50.12</td>\n",
              "      <td>Low</td>\n",
              "      <td>LOW</td>\n",
              "      <td>low</td>\n",
              "    </tr>\n",
              "    <tr>\n",
              "      <th>1</th>\n",
              "      <td>54.10</td>\n",
              "      <td>Low</td>\n",
              "      <td>LOW</td>\n",
              "      <td>low</td>\n",
              "    </tr>\n",
              "    <tr>\n",
              "      <th>2</th>\n",
              "      <td>54.65</td>\n",
              "      <td>Low</td>\n",
              "      <td>LOW</td>\n",
              "      <td>low</td>\n",
              "    </tr>\n",
              "    <tr>\n",
              "      <th>3</th>\n",
              "      <td>102.88</td>\n",
              "      <td>Med</td>\n",
              "      <td>MED</td>\n",
              "      <td>med</td>\n",
              "    </tr>\n",
              "    <tr>\n",
              "      <th>4</th>\n",
              "      <td>105.32</td>\n",
              "      <td>Med</td>\n",
              "      <td>MED</td>\n",
              "      <td>med</td>\n",
              "    </tr>\n",
              "    <tr>\n",
              "      <th>5</th>\n",
              "      <td>102.08</td>\n",
              "      <td>Med</td>\n",
              "      <td>MED</td>\n",
              "      <td>med</td>\n",
              "    </tr>\n",
              "    <tr>\n",
              "      <th>6</th>\n",
              "      <td>214.86</td>\n",
              "      <td>High</td>\n",
              "      <td>HIGH</td>\n",
              "      <td>high</td>\n",
              "    </tr>\n",
              "    <tr>\n",
              "      <th>7</th>\n",
              "      <td>212.09</td>\n",
              "      <td>High</td>\n",
              "      <td>HIGH</td>\n",
              "      <td>high</td>\n",
              "    </tr>\n",
              "    <tr>\n",
              "      <th>8</th>\n",
              "      <td>214.66</td>\n",
              "      <td>High</td>\n",
              "      <td>HIGH</td>\n",
              "      <td>high</td>\n",
              "    </tr>\n",
              "    <tr>\n",
              "      <th>9</th>\n",
              "      <td>212.95</td>\n",
              "      <td>High</td>\n",
              "      <td>HIGH</td>\n",
              "      <td>high</td>\n",
              "    </tr>\n",
              "    <tr>\n",
              "      <th>10</th>\n",
              "      <td>215.80</td>\n",
              "      <td>High</td>\n",
              "      <td>HIGH</td>\n",
              "      <td>high</td>\n",
              "    </tr>\n",
              "    <tr>\n",
              "      <th>11</th>\n",
              "      <td>215.25</td>\n",
              "      <td>High</td>\n",
              "      <td>HIGH</td>\n",
              "      <td>high</td>\n",
              "    </tr>\n",
              "  </tbody>\n",
              "</table>\n",
              "</div>"
            ],
            "text/plain": [
              "    Stock Price where   fun lambda\n",
              "0         50.12   Low   LOW    low\n",
              "1         54.10   Low   LOW    low\n",
              "2         54.65   Low   LOW    low\n",
              "3        102.88   Med   MED    med\n",
              "4        105.32   Med   MED    med\n",
              "5        102.08   Med   MED    med\n",
              "6        214.86  High  HIGH   high\n",
              "7        212.09  High  HIGH   high\n",
              "8        214.66  High  HIGH   high\n",
              "9        212.95  High  HIGH   high\n",
              "10       215.80  High  HIGH   high\n",
              "11       215.25  High  HIGH   high"
            ]
          },
          "metadata": {},
          "execution_count": 26
        }
      ]
    },
    {
      "cell_type": "markdown",
      "metadata": {
        "id": "Hg3fQA-OrpfK"
      },
      "source": [
        "# Dates in Python"
      ]
    },
    {
      "cell_type": "markdown",
      "metadata": {
        "id": "b7Ve9dZ_nNin"
      },
      "source": [
        "1. import the datetime library as dt\n",
        "2. print todays date in python\n",
        "3. save a date in a variable and print it\n",
        "* extract the month and day from the date variable\n",
        "4. save a time as time format\n",
        "* extract the hour and min from the time\n",
        "5. how to convert a string into a date format\n"
      ]
    },
    {
      "cell_type": "markdown",
      "source": [
        "# 1. import the datetime library as dt"
      ],
      "metadata": {
        "id": "PhXzgFo4LXS0"
      }
    },
    {
      "cell_type": "code",
      "source": [
        "import datetime as dt"
      ],
      "metadata": {
        "id": "qZivPL8GLTCK"
      },
      "execution_count": null,
      "outputs": []
    },
    {
      "cell_type": "markdown",
      "source": [
        "# 2. print todays date in python"
      ],
      "metadata": {
        "id": "0xlg8pNpLaL-"
      }
    },
    {
      "cell_type": "code",
      "source": [
        "dt.date.today()"
      ],
      "metadata": {
        "colab": {
          "base_uri": "https://localhost:8080/"
        },
        "id": "KfWgxCryLbTn",
        "outputId": "96caccfa-3d5b-443d-c229-20e63e503cef"
      },
      "execution_count": null,
      "outputs": [
        {
          "output_type": "execute_result",
          "data": {
            "text/plain": [
              "datetime.date(2021, 12, 10)"
            ]
          },
          "metadata": {},
          "execution_count": 28
        }
      ]
    },
    {
      "cell_type": "code",
      "source": [
        "date =2021-12-7"
      ],
      "metadata": {
        "id": "oYNypy0bLh9T"
      },
      "execution_count": null,
      "outputs": []
    },
    {
      "cell_type": "code",
      "source": [
        "type(date)"
      ],
      "metadata": {
        "colab": {
          "base_uri": "https://localhost:8080/"
        },
        "id": "RjOth5-0LrmC",
        "outputId": "ec2d257c-5cb1-4aec-911c-2d228e7ffaf3"
      },
      "execution_count": null,
      "outputs": [
        {
          "output_type": "execute_result",
          "data": {
            "text/plain": [
              "int"
            ]
          },
          "metadata": {},
          "execution_count": 30
        }
      ]
    },
    {
      "cell_type": "markdown",
      "source": [
        "# 3. save a date in a variable and print it\n",
        "* extract the month and day from the date variable"
      ],
      "metadata": {
        "id": "qiZbe4C_Lgc0"
      }
    },
    {
      "cell_type": "code",
      "source": [
        "date ='2021-12-7'"
      ],
      "metadata": {
        "id": "q59BInTQLvxs"
      },
      "execution_count": null,
      "outputs": []
    },
    {
      "cell_type": "code",
      "source": [
        "type(date)"
      ],
      "metadata": {
        "colab": {
          "base_uri": "https://localhost:8080/"
        },
        "id": "7_4D0GeaLzjk",
        "outputId": "cd57a6f0-6aed-4e28-83be-94164d0e6ec0"
      },
      "execution_count": null,
      "outputs": [
        {
          "output_type": "execute_result",
          "data": {
            "text/plain": [
              "str"
            ]
          },
          "metadata": {},
          "execution_count": 32
        }
      ]
    },
    {
      "cell_type": "code",
      "source": [
        "date1 = dt.date(2021,12,21)"
      ],
      "metadata": {
        "id": "Qrm9jIuSL24D"
      },
      "execution_count": null,
      "outputs": []
    },
    {
      "cell_type": "code",
      "source": [
        "type(date1)"
      ],
      "metadata": {
        "colab": {
          "base_uri": "https://localhost:8080/"
        },
        "id": "S7PB4whDL-Dj",
        "outputId": "27932a92-8cc7-4850-bd4f-3c5ae63ef4d0"
      },
      "execution_count": null,
      "outputs": [
        {
          "output_type": "execute_result",
          "data": {
            "text/plain": [
              "datetime.date"
            ]
          },
          "metadata": {},
          "execution_count": 34
        }
      ]
    },
    {
      "cell_type": "markdown",
      "source": [
        "* extract the month and day from the date variable"
      ],
      "metadata": {
        "id": "W45TY2UBMD1I"
      }
    },
    {
      "cell_type": "markdown",
      "source": [
        "name of data frame and then day to know the day.\n",
        ". month to know the month \n",
        "."
      ],
      "metadata": {
        "id": "27cZSOkeMGq8"
      }
    },
    {
      "cell_type": "code",
      "source": [
        "date1.day"
      ],
      "metadata": {
        "colab": {
          "base_uri": "https://localhost:8080/"
        },
        "id": "dPIjIxs5MGby",
        "outputId": "11149dd3-d459-4f8c-8a42-a8a54186dc46"
      },
      "execution_count": null,
      "outputs": [
        {
          "output_type": "execute_result",
          "data": {
            "text/plain": [
              "21"
            ]
          },
          "metadata": {},
          "execution_count": 35
        }
      ]
    },
    {
      "cell_type": "code",
      "source": [
        "date1.month"
      ],
      "metadata": {
        "colab": {
          "base_uri": "https://localhost:8080/"
        },
        "id": "j5YdbItsMEZp",
        "outputId": "b2f08501-ba49-4e25-f123-b628fe17e730"
      },
      "execution_count": null,
      "outputs": [
        {
          "output_type": "execute_result",
          "data": {
            "text/plain": [
              "12"
            ]
          },
          "metadata": {},
          "execution_count": 36
        }
      ]
    },
    {
      "cell_type": "code",
      "source": [
        "date1.year"
      ],
      "metadata": {
        "colab": {
          "base_uri": "https://localhost:8080/"
        },
        "id": "mMRWT3kVMTww",
        "outputId": "57dc921e-7a6e-4c1a-eabf-ce344658da1b"
      },
      "execution_count": null,
      "outputs": [
        {
          "output_type": "execute_result",
          "data": {
            "text/plain": [
              "2021"
            ]
          },
          "metadata": {},
          "execution_count": 37
        }
      ]
    },
    {
      "cell_type": "markdown",
      "source": [
        "# 4. save a time as time format\n",
        "* extract the hour and min from the time"
      ],
      "metadata": {
        "id": "9wvWMsEsMtRM"
      }
    },
    {
      "cell_type": "code",
      "source": [
        "t = dt.time(21,30)"
      ],
      "metadata": {
        "id": "reQ1fQUyMXEu"
      },
      "execution_count": null,
      "outputs": []
    },
    {
      "cell_type": "code",
      "source": [
        "t"
      ],
      "metadata": {
        "colab": {
          "base_uri": "https://localhost:8080/"
        },
        "id": "UVWu6mRXh0zJ",
        "outputId": "30c68ba2-22f4-4b8e-a0e9-04cedb4afa42"
      },
      "execution_count": null,
      "outputs": [
        {
          "output_type": "execute_result",
          "data": {
            "text/plain": [
              "datetime.time(21, 30)"
            ]
          },
          "metadata": {},
          "execution_count": 40
        }
      ]
    },
    {
      "cell_type": "code",
      "source": [
        "print(t)"
      ],
      "metadata": {
        "colab": {
          "base_uri": "https://localhost:8080/"
        },
        "id": "QCZM7wKNMcbU",
        "outputId": "811ee766-ff7e-4f84-cc39-75002fcf23da"
      },
      "execution_count": null,
      "outputs": [
        {
          "output_type": "stream",
          "name": "stdout",
          "text": [
            "21:30:00\n"
          ]
        }
      ]
    },
    {
      "cell_type": "markdown",
      "source": [
        "* extract the hour and min from the time"
      ],
      "metadata": {
        "id": "445xprrEMwtH"
      }
    },
    {
      "cell_type": "code",
      "source": [
        "t.hour"
      ],
      "metadata": {
        "colab": {
          "base_uri": "https://localhost:8080/"
        },
        "id": "V1s8ityzMjm-",
        "outputId": "086539d0-cdb7-4b29-ca58-900628e16c78"
      },
      "execution_count": null,
      "outputs": [
        {
          "output_type": "execute_result",
          "data": {
            "text/plain": [
              "21"
            ]
          },
          "metadata": {},
          "execution_count": 41
        }
      ]
    },
    {
      "cell_type": "code",
      "source": [
        "t.minute"
      ],
      "metadata": {
        "colab": {
          "base_uri": "https://localhost:8080/"
        },
        "id": "bvsGUtiJMl6c",
        "outputId": "008dc553-31a6-4536-bcbb-7fb504f2aa64"
      },
      "execution_count": null,
      "outputs": [
        {
          "output_type": "execute_result",
          "data": {
            "text/plain": [
              "30"
            ]
          },
          "metadata": {},
          "execution_count": 42
        }
      ]
    },
    {
      "cell_type": "markdown",
      "source": [
        "# 5. how to convert a string into a date format"
      ],
      "metadata": {
        "id": "symxLOWuM0Lc"
      }
    },
    {
      "cell_type": "markdown",
      "source": [
        "you have to manipulate the data in so many different stages to convert the format and here it's much easier and let's do that."
      ],
      "metadata": {
        "id": "xWOcjejrh-V6"
      }
    },
    {
      "cell_type": "code",
      "source": [
        "date_string = '2021-12-7'"
      ],
      "metadata": {
        "id": "fIYM9YciM2Oz"
      },
      "execution_count": null,
      "outputs": []
    },
    {
      "cell_type": "code",
      "source": [
        "type(date_string)"
      ],
      "metadata": {
        "colab": {
          "base_uri": "https://localhost:8080/"
        },
        "id": "QgyfO9uVM64a",
        "outputId": "4b63bec8-859f-4c1f-a237-87c1ced4704f"
      },
      "execution_count": null,
      "outputs": [
        {
          "output_type": "execute_result",
          "data": {
            "text/plain": [
              "str"
            ]
          },
          "metadata": {},
          "execution_count": 46
        }
      ]
    },
    {
      "cell_type": "markdown",
      "source": [
        "the dateutil.parser function changes any format to date time"
      ],
      "metadata": {
        "id": "O8-rLhvikxBQ"
      }
    },
    {
      "cell_type": "code",
      "source": [
        "from dateutil.parser import parse"
      ],
      "metadata": {
        "id": "Y1r5_ZVEM-t-"
      },
      "execution_count": null,
      "outputs": []
    },
    {
      "cell_type": "code",
      "source": [
        "parse(date_string)"
      ],
      "metadata": {
        "colab": {
          "base_uri": "https://localhost:8080/"
        },
        "id": "gbr7eUq0NTjg",
        "outputId": "be20fcac-841e-4bd7-d8a4-b0745297428f"
      },
      "execution_count": null,
      "outputs": [
        {
          "output_type": "execute_result",
          "data": {
            "text/plain": [
              "datetime.datetime(2021, 12, 7, 0, 0)"
            ]
          },
          "metadata": {},
          "execution_count": 49
        }
      ]
    }
  ],
  "metadata": {
    "colab": {
      "name": "pythonDatetime_and_Date_Type.ipynb",
      "provenance": [],
      "collapsed_sections": [],
      "include_colab_link": true
    },
    "kernelspec": {
      "display_name": "Python 3",
      "language": "python",
      "name": "python3"
    },
    "language_info": {
      "codemirror_mode": {
        "name": "ipython",
        "version": 3
      },
      "file_extension": ".py",
      "mimetype": "text/x-python",
      "name": "python",
      "nbconvert_exporter": "python",
      "pygments_lexer": "ipython3",
      "version": "3.8.5"
    }
  },
  "nbformat": 4,
  "nbformat_minor": 0
}